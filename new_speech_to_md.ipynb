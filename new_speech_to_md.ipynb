{
 "cells": [
  {
   "cell_type": "markdown",
   "metadata": {},
   "source": [
    "### Convert all mp4 under goven directory to m4a"
   ]
  },
  {
   "cell_type": "code",
   "execution_count": 1,
   "metadata": {},
   "outputs": [
    {
     "name": "stderr",
     "output_type": "stream",
     "text": [
      "Converting MP4 to M4A: 100%|██████████| 109/109 [06:07<00:00,  3.37s/it]"
     ]
    },
    {
     "name": "stdout",
     "output_type": "stream",
     "text": [
      "                                              FilePath ConversionStatus\n",
      "0    D:\\Radiopaedia 2023\\Audio guides\\Radiopaedia 2...          Success\n",
      "1    D:\\Radiopaedia 2023\\Audio guides\\Radiopaedia 2...          Success\n",
      "2    D:\\Radiopaedia 2023\\Audio guides\\Radiopaedia 2...          Success\n",
      "3    D:\\Radiopaedia 2023\\Audio guides\\Radiopaedia 2...          Success\n",
      "4    D:\\Radiopaedia 2023\\Audio guides\\Radiopaedia 2...          Success\n",
      "..                                                 ...              ...\n",
      "104  D:\\Radiopaedia 2023\\Day5\\Women in radiology\\01...          Success\n",
      "105  D:\\Radiopaedia 2023\\Day5\\Women in radiology\\02...          Success\n",
      "106  D:\\Radiopaedia 2023\\Day5\\Women in radiology\\03...          Success\n",
      "107  D:\\Radiopaedia 2023\\Day5\\Workshops & rPosters\\...          Success\n",
      "108  D:\\Radiopaedia 2023\\Day5\\Workshops & rPosters\\...          Success\n",
      "\n",
      "[109 rows x 2 columns]\n"
     ]
    },
    {
     "name": "stderr",
     "output_type": "stream",
     "text": [
      "\n"
     ]
    }
   ],
   "source": [
    "import os\n",
    "import pandas as pd\n",
    "from tqdm import tqdm\n",
    "import subprocess\n",
    "\n",
    "def convert_mp4_to_m4a(directory):\n",
    "    # List to store file paths\n",
    "    mp4_files = []\n",
    "    \n",
    "    # Walk through the directory\n",
    "    for root, dirs, files in os.walk(directory):\n",
    "        for file in files:\n",
    "            if file.endswith('.mp4'):\n",
    "                mp4_files.append(os.path.join(root, file))\n",
    "    \n",
    "    # Create a DataFrame to list all MP4 files\n",
    "    df_mp4_files = pd.DataFrame(mp4_files, columns=['FilePath'])\n",
    "    \n",
    "    # Initialize a list to store conversion status\n",
    "    conversion_status = []\n",
    "    \n",
    "    # Iterate over mp4 files and convert each to m4a\n",
    "    for file_path in tqdm(mp4_files, desc='Converting MP4 to M4A'):\n",
    "        file_dir, file_name = os.path.split(file_path)\n",
    "        base_name, _ = os.path.splitext(file_name)\n",
    "        output_audio = os.path.join(file_dir, f\"{base_name}.m4a\")\n",
    "        \n",
    "        # Construct the command\n",
    "        command = f'ffmpeg -i \"{file_path}\" -vn -c:a copy \"{output_audio}\"'\n",
    "        \n",
    "        # Execute the command\n",
    "        try:\n",
    "            subprocess.run(command, check=True, shell=True, stdout=subprocess.PIPE, stderr=subprocess.PIPE)\n",
    "            conversion_status.append('Success')\n",
    "        except subprocess.CalledProcessError as e:\n",
    "            conversion_status.append(f'Error: {e.stderr.decode()}')\n",
    "    \n",
    "    # Add conversion status to the DataFrame\n",
    "    df_mp4_files['ConversionStatus'] = conversion_status\n",
    "    \n",
    "    return df_mp4_files\n",
    "\n",
    "# Example usage\n",
    "directory = r\"D:\\Radiopaedia 2023\"  # Adjust the directory as needed\n",
    "df_conversion_results = convert_mp4_to_m4a(directory)\n",
    "print(df_conversion_results)\n"
   ]
  },
  {
   "cell_type": "markdown",
   "metadata": {},
   "source": [
    "### Move all processed file to separate directory, preserving folder structure."
   ]
  },
  {
   "cell_type": "code",
   "execution_count": 5,
   "metadata": {},
   "outputs": [
    {
     "name": "stdout",
     "output_type": "stream",
     "text": [
      "Moved: D:\\Radiopaedia 2023\\Day1\\Full session replay\\Radiopaedia 2023 - Session 11  Radiopaediaorg (1).wav -> C:\\Users\\galen\\Downloads\\Radiopaedia 2023 wav\\Day1\\Full session replay\\Radiopaedia 2023 - Session 11  Radiopaediaorg (1).wav\n",
      "Moved: D:\\Radiopaedia 2023\\Day1\\Full session replay\\Radiopaedia 2023 - Session 13  Radiopaediaorg (1).wav -> C:\\Users\\galen\\Downloads\\Radiopaedia 2023 wav\\Day1\\Full session replay\\Radiopaedia 2023 - Session 13  Radiopaediaorg (1).wav\n",
      "Moved: D:\\Radiopaedia 2023\\Day1\\Full session replay\\Radiopaedia 2023 - Session 14  Radiopaediaorg (1).wav -> C:\\Users\\galen\\Downloads\\Radiopaedia 2023 wav\\Day1\\Full session replay\\Radiopaedia 2023 - Session 14  Radiopaediaorg (1).wav\n",
      "Moved: D:\\Radiopaedia 2023\\Day1\\Full session replay\\Radiopaedia 2023 - Session 16  Radiopaediaorg (1).wav -> C:\\Users\\galen\\Downloads\\Radiopaedia 2023 wav\\Day1\\Full session replay\\Radiopaedia 2023 - Session 16  Radiopaediaorg (1).wav\n",
      "Moved: D:\\Radiopaedia 2023\\Day1\\Neuroradiology\\01 - Diseases of the meninges.wav -> C:\\Users\\galen\\Downloads\\Radiopaedia 2023 wav\\Day1\\Neuroradiology\\01 - Diseases of the meninges.wav\n",
      "Moved: D:\\Radiopaedia 2023\\Day1\\Neuroradiology\\02 - Post-treatment imaging of brain tumors.wav -> C:\\Users\\galen\\Downloads\\Radiopaedia 2023 wav\\Day1\\Neuroradiology\\02 - Post-treatment imaging of brain tumors.wav\n",
      "Moved: D:\\Radiopaedia 2023\\Day1\\Neuroradiology\\03 - Brain MRI search patterns and check areas.wav -> C:\\Users\\galen\\Downloads\\Radiopaedia 2023 wav\\Day1\\Neuroradiology\\03 - Brain MRI search patterns and check areas.wav\n",
      "Moved: D:\\Radiopaedia 2023\\Day1\\Neuroradiology\\04 - Cerebral small vessel diseases.wav -> C:\\Users\\galen\\Downloads\\Radiopaedia 2023 wav\\Day1\\Neuroradiology\\04 - Cerebral small vessel diseases.wav\n",
      "Moved: D:\\Radiopaedia 2023\\Day1\\Neuroradiology\\05 - Brain CT search patterns and check areas.wav -> C:\\Users\\galen\\Downloads\\Radiopaedia 2023 wav\\Day1\\Neuroradiology\\05 - Brain CT search patterns and check areas.wav\n",
      "Moved: D:\\Radiopaedia 2023\\Day1\\Neuroradiology\\06 - Stroke vascular territories it's not always the MCA.wav -> C:\\Users\\galen\\Downloads\\Radiopaedia 2023 wav\\Day1\\Neuroradiology\\06 - Stroke vascular territories it's not always the MCA.wav\n",
      "Moved: D:\\Radiopaedia 2023\\Day1\\Neuroradiology\\07 - Cavernous sinus from anatomy to pathology.wav -> C:\\Users\\galen\\Downloads\\Radiopaedia 2023 wav\\Day1\\Neuroradiology\\07 - Cavernous sinus from anatomy to pathology.wav\n",
      "Moved: D:\\Radiopaedia 2023\\Day4\\Interventional Radiology\\01 - Vascular interventional oncology TACE & SIRT.wav -> C:\\Users\\galen\\Downloads\\Radiopaedia 2023 wav\\Day4\\Interventional Radiology\\01 - Vascular interventional oncology TACE & SIRT.wav\n",
      "Moved: D:\\Radiopaedia 2023\\Day4\\Interventional Radiology\\02 - Non-vascular interventional oncology ablation.wav -> C:\\Users\\galen\\Downloads\\Radiopaedia 2023 wav\\Day4\\Interventional Radiology\\02 - Non-vascular interventional oncology ablation.wav\n",
      "Moved: D:\\Radiopaedia 2023\\Day4\\Interventional Radiology\\03 - What's new in interventional oncology.wav -> C:\\Users\\galen\\Downloads\\Radiopaedia 2023 wav\\Day4\\Interventional Radiology\\03 - What's new in interventional oncology.wav\n",
      "Moved: D:\\Radiopaedia 2023\\Day4\\Interventional Radiology\\04 - Top ten papers to know in IR.wav -> C:\\Users\\galen\\Downloads\\Radiopaedia 2023 wav\\Day4\\Interventional Radiology\\04 - Top ten papers to know in IR.wav\n",
      "Moved: D:\\Radiopaedia 2023\\Day4\\Musculoskeletal Imaging\\01 - Sports related finger injuries.wav -> C:\\Users\\galen\\Downloads\\Radiopaedia 2023 wav\\Day4\\Musculoskeletal Imaging\\01 - Sports related finger injuries.wav\n",
      "Moved: D:\\Radiopaedia 2023\\Day4\\Musculoskeletal Imaging\\02 - ​​An approach to elbow MRI.wav -> C:\\Users\\galen\\Downloads\\Radiopaedia 2023 wav\\Day4\\Musculoskeletal Imaging\\02 - ​​An approach to elbow MRI.wav\n",
      "Moved: D:\\Radiopaedia 2023\\Day4\\Musculoskeletal Imaging\\03 - Gym injuries torn while getting ripped.wav -> C:\\Users\\galen\\Downloads\\Radiopaedia 2023 wav\\Day4\\Musculoskeletal Imaging\\03 - Gym injuries torn while getting ripped.wav\n",
      "Moved: D:\\Radiopaedia 2023\\Day4\\Musculoskeletal Imaging\\04 - Top ten missed dislocations.wav -> C:\\Users\\galen\\Downloads\\Radiopaedia 2023 wav\\Day4\\Musculoskeletal Imaging\\04 - Top ten missed dislocations.wav\n",
      "Moved: D:\\Radiopaedia 2023\\Day4\\Musculoskeletal Imaging\\05 - Top ten commonly missed extremity fractures.wav -> C:\\Users\\galen\\Downloads\\Radiopaedia 2023 wav\\Day4\\Musculoskeletal Imaging\\05 - Top ten commonly missed extremity fractures.wav\n",
      "Moved: D:\\Radiopaedia 2023\\Day4\\Spine Imaging\\01 - Degenerative and post-operative spine.wav -> C:\\Users\\galen\\Downloads\\Radiopaedia 2023 wav\\Day4\\Spine Imaging\\01 - Degenerative and post-operative spine.wav\n",
      "Moved: D:\\Radiopaedia 2023\\Day4\\Spine Imaging\\02 - Spinal infections imaging and biopsy tips.wav -> C:\\Users\\galen\\Downloads\\Radiopaedia 2023 wav\\Day4\\Spine Imaging\\02 - Spinal infections imaging and biopsy tips.wav\n",
      "Moved: D:\\Radiopaedia 2023\\Day4\\Spine Imaging\\03 - Sacroiliac joint variants and pathology.wav -> C:\\Users\\galen\\Downloads\\Radiopaedia 2023 wav\\Day4\\Spine Imaging\\03 - Sacroiliac joint variants and pathology.wav\n",
      "Moved: D:\\Radiopaedia 2023\\Day4\\Spine Imaging\\04 - Lumbar spine x-ray interpretation\\Radiopaedia 2023 - Day 4  Radiopaediaorg (17).wav -> C:\\Users\\galen\\Downloads\\Radiopaedia 2023 wav\\Day4\\Spine Imaging\\04 - Lumbar spine x-ray interpretation\\Radiopaedia 2023 - Day 4  Radiopaediaorg (17).wav\n",
      "Moved: D:\\Radiopaedia 2023\\Day4\\Spine Imaging\\04 - Lumbar spine x-ray interpretation\\Radiopaedia 2023 - Day 4  Radiopaediaorg (19).wav -> C:\\Users\\galen\\Downloads\\Radiopaedia 2023 wav\\Day4\\Spine Imaging\\04 - Lumbar spine x-ray interpretation\\Radiopaedia 2023 - Day 4  Radiopaediaorg (19).wav\n",
      "Moved: D:\\Radiopaedia 2023\\Day5\\Women in radiology\\01 - Gender diversity in radiology.wav -> C:\\Users\\galen\\Downloads\\Radiopaedia 2023 wav\\Day5\\Women in radiology\\01 - Gender diversity in radiology.wav\n",
      "Moved: D:\\Radiopaedia 2023\\Day5\\Women in radiology\\02 - Tackling workforce challenges.wav -> C:\\Users\\galen\\Downloads\\Radiopaedia 2023 wav\\Day5\\Women in radiology\\02 - Tackling workforce challenges.wav\n",
      "Moved: D:\\Radiopaedia 2023\\Day5\\Women in radiology\\03 - Radiology leadership.wav -> C:\\Users\\galen\\Downloads\\Radiopaedia 2023 wav\\Day5\\Women in radiology\\03 - Radiology leadership.wav\n"
     ]
    }
   ],
   "source": [
    "import os\n",
    "import shutil\n",
    "\n",
    "def move_m4a_files(source_directory, target_directory):\n",
    "    # Walk through all directories and files in the source directory\n",
    "    for root, dirs, files in os.walk(source_directory):\n",
    "        for file in files:\n",
    "            if file.endswith('.wav'):\n",
    "                # Construct the full file path\n",
    "                file_path = os.path.join(root, file)\n",
    "                \n",
    "                # Construct the relative path of the file relative to the source directory\n",
    "                relative_path = os.path.relpath(root, source_directory)\n",
    "                \n",
    "                # Construct the target directory path replicating the folder structure\n",
    "                target_dir_path = os.path.join(target_directory, relative_path)\n",
    "                \n",
    "                # Make sure the target directory exists\n",
    "                os.makedirs(target_dir_path, exist_ok=True)\n",
    "                \n",
    "                # Construct the full target file path\n",
    "                target_file_path = os.path.join(target_dir_path, file)\n",
    "                \n",
    "                # Move the file\n",
    "                shutil.move(file_path, target_file_path)\n",
    "                print(f\"Moved: {file_path} -> {target_file_path}\")\n",
    "\n",
    "# Example usage\n",
    "source_directory = r\"D:\\Radiopaedia 2023\"\n",
    "target_directory = r\"C:\\Users\\galen\\Downloads\\Radiopaedia 2023 wav\"\n",
    "move_m4a_files(source_directory, target_directory)\n"
   ]
  }
 ],
 "metadata": {
  "kernelspec": {
   "display_name": "Python 3",
   "language": "python",
   "name": "python3"
  },
  "language_info": {
   "codemirror_mode": {
    "name": "ipython",
    "version": 3
   },
   "file_extension": ".py",
   "mimetype": "text/x-python",
   "name": "python",
   "nbconvert_exporter": "python",
   "pygments_lexer": "ipython3",
   "version": "3.11.8"
  }
 },
 "nbformat": 4,
 "nbformat_minor": 2
}
